{
 "cells": [
  {
   "cell_type": "code",
   "execution_count": 6,
   "metadata": {},
   "outputs": [],
   "source": [
    "import os\n",
    "from groq import Groq\n",
    "from langchain_groq import ChatGroq\n",
    "from langchain_core.prompts import ChatPromptTemplate\n",
    "from langchain_core.pydantic_v1 import BaseModel, Field"
   ]
  },
  {
   "cell_type": "code",
   "execution_count": 7,
   "metadata": {},
   "outputs": [],
   "source": [
    "client = Groq(api_key=\"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\")\n",
    "groq_api_key = \"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\"\n"
   ]
  },
  {
   "cell_type": "code",
   "execution_count": 8,
   "metadata": {},
   "outputs": [
    {
     "name": "stdout",
     "output_type": "stream",
     "text": [
      "Model retrieved\n"
     ]
    }
   ],
   "source": [
    "llm = ChatGroq(\n",
    "    model=\"llama-3.1-70b-versatile\",\n",
    "    temperature=0,\n",
    "    max_tokens=2048,\n",
    "    timeout=None,\n",
    "    max_retries=2,\n",
    "    groq_api_key=groq_api_key\n",
    ")\n",
    "print(\"Model retrieved\")"
   ]
  },
  {
   "cell_type": "code",
   "execution_count": 9,
   "metadata": {},
   "outputs": [],
   "source": [
    "filename = \"C:\\CODE\\Darwix AI\\Task one\\convo.mp3\""
   ]
  },
  {
   "cell_type": "code",
   "execution_count": 10,
   "metadata": {},
   "outputs": [
    {
     "name": "stdout",
     "output_type": "stream",
     "text": [
      "Transcription saved to transcription_output.json\n",
      "Detected language(s): English\n"
     ]
    }
   ],
   "source": [
    "import json\n",
    "\n",
    "# Open the file and create a transcription\n",
    "try:\n",
    "    with open(filename, \"rb\") as file:\n",
    "        response = client.audio.transcriptions.create(\n",
    "            file=(filename, file.read()),\n",
    "            model=\"whisper-large-v3\",\n",
    "            response_format=\"verbose_json\",  # Ensure JSON output\n",
    "            language=None  # Set to None to enable automatic language detection\n",
    "        )\n",
    "    \n",
    "    # Convert the response to a dictionary\n",
    "    response_dict = response.to_dict()  # or response.model_dump() if to_dict() doesn't work\n",
    "    \n",
    "    # Define the output JSON file path\n",
    "    output_json_path = \"transcription_output.json\"\n",
    "    \n",
    "    # Write the response to a JSON file\n",
    "    with open(output_json_path, \"w\", encoding=\"utf-8\") as json_file:\n",
    "        json.dump(response_dict, json_file, indent=2, ensure_ascii=False)  # Pretty-print the JSON and preserve special characters\n",
    "    \n",
    "    print(f\"Transcription saved to {output_json_path}\")\n",
    "    print(\"Detected language(s):\", response_dict.get(\"language\", \"unknown\"))  # Print detected language(s)\n",
    "    \n",
    "except Exception as e:\n",
    "    print(f\"An error occurred: {e}\")"
   ]
  }
 ],
 "metadata": {
  "kernelspec": {
   "display_name": "Python 3",
   "language": "python",
   "name": "python3"
  },
  "language_info": {
   "codemirror_mode": {
    "name": "ipython",
    "version": 3
   },
   "file_extension": ".py",
   "mimetype": "text/x-python",
   "name": "python",
   "nbconvert_exporter": "python",
   "pygments_lexer": "ipython3",
   "version": "3.11.0"
  }
 },
 "nbformat": 4,
 "nbformat_minor": 2
}
